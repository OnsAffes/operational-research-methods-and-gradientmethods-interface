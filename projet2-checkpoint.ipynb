{
 "cells": [
  {
   "cell_type": "markdown",
   "metadata": {
    "id": "EiGGXHnkjloH"
   },
   "source": [
    "Installation des librairies"
   ]
  },
  {
   "cell_type": "code",
   "execution_count": 1,
   "metadata": {
    "colab": {
     "base_uri": "https://localhost:8080/"
    },
    "id": "18ikc4rLjloR",
    "outputId": "48a6dbce-7ed9-4642-c2dd-04908e11168b"
   },
   "outputs": [
    {
     "name": "stdout",
     "output_type": "stream",
     "text": [
      "Requirement already satisfied: numpy in c:\\users\\21655\\anaconda3\\lib\\site-packages (1.21.5)\n",
      "Requirement already satisfied: matplotlib in c:\\users\\21655\\anaconda3\\lib\\site-packages (3.5.2)\n",
      "Requirement already satisfied: cycler>=0.10 in c:\\users\\21655\\anaconda3\\lib\\site-packages (from matplotlib) (0.11.0)\n",
      "Requirement already satisfied: kiwisolver>=1.0.1 in c:\\users\\21655\\anaconda3\\lib\\site-packages (from matplotlib) (1.4.2)\n",
      "Requirement already satisfied: fonttools>=4.22.0 in c:\\users\\21655\\anaconda3\\lib\\site-packages (from matplotlib) (4.25.0)\n",
      "Requirement already satisfied: pyparsing>=2.2.1 in c:\\users\\21655\\anaconda3\\lib\\site-packages (from matplotlib) (3.0.9)\n",
      "Requirement already satisfied: packaging>=20.0 in c:\\users\\21655\\anaconda3\\lib\\site-packages (from matplotlib) (21.3)\n",
      "Requirement already satisfied: python-dateutil>=2.7 in c:\\users\\21655\\anaconda3\\lib\\site-packages (from matplotlib) (2.8.2)\n",
      "Requirement already satisfied: numpy>=1.17 in c:\\users\\21655\\anaconda3\\lib\\site-packages (from matplotlib) (1.21.5)\n",
      "Requirement already satisfied: pillow>=6.2.0 in c:\\users\\21655\\anaconda3\\lib\\site-packages (from matplotlib) (9.2.0)\n",
      "Requirement already satisfied: six>=1.5 in c:\\users\\21655\\anaconda3\\lib\\site-packages (from python-dateutil>=2.7->matplotlib) (1.16.0)\n",
      "Requirement already satisfied: sympy in c:\\users\\21655\\anaconda3\\lib\\site-packages (1.10.1)\n",
      "Requirement already satisfied: mpmath>=0.19 in c:\\users\\21655\\anaconda3\\lib\\site-packages (from sympy) (1.2.1)\n",
      "Requirement already satisfied: console-menu in c:\\users\\21655\\anaconda3\\lib\\site-packages (0.7.1)\n",
      "Requirement already satisfied: ansiwrap in c:\\users\\21655\\anaconda3\\lib\\site-packages (from console-menu) (0.8.4)\n",
      "Requirement already satisfied: six in c:\\users\\21655\\anaconda3\\lib\\site-packages (from console-menu) (1.16.0)\n",
      "Requirement already satisfied: textwrap3>=0.9.2 in c:\\users\\21655\\anaconda3\\lib\\site-packages (from ansiwrap->console-menu) (0.9.2)\n"
     ]
    }
   ],
   "source": [
    "import sys\n",
    "if('numpy' not in sys.modules):\n",
    "    !pip install numpy\n",
    "if('matplotlib' not in sys.modules):\n",
    "    !pip install matplotlib\n",
    "if('sympy' not in sys.modules):\n",
    "    !pip install sympy\n",
    "if('consolemenu' not in sys.modules):\n",
    "    !pip install console-menu"
   ]
  },
  {
   "cell_type": "markdown",
   "metadata": {
    "id": "gFfG65cSjloV"
   },
   "source": [
    "Les importations"
   ]
  },
  {
   "cell_type": "code",
   "execution_count": 2,
   "metadata": {
    "id": "-jDxtJOOjloX"
   },
   "outputs": [],
   "source": [
    "import numpy as np\n",
    "from sympy import symbols, Matrix, Function, simplify, exp, hessian, solve, init_printing, sympify , var,lambdify\n",
    "import sympy as sym\n",
    "import re\n",
    "from consolemenu import SelectionMenu,format\n",
    "import matplotlib.pyplot as plt\n",
    "import mpl_toolkits\n",
    "from mpl_toolkits.mplot3d import Axes3D"
   ]
  },
  {
   "cell_type": "markdown",
   "metadata": {
    "id": "6QTO7zaXjloa"
   },
   "source": [
    "Les variables globales"
   ]
  },
  {
   "cell_type": "code",
   "execution_count": 3,
   "metadata": {
    "id": "YJZIP2JCjlob"
   },
   "outputs": [],
   "source": [
    "#declarer les symboles/variables\n",
    "x,y,z,t,w = var('x y z t w')\n",
    "xn = np.array([x,y,z,t,w])\n",
    "\n",
    "#nombre des variables (max 5)\n",
    "n = 0\n",
    "\n",
    "#la fonction\n",
    "f = None\n",
    "\n",
    "#gradiant de la fonction\n",
    "grad = None\n",
    "\n",
    "#matrice hessian de la fonction\n",
    "hessianM = None\n",
    "\n",
    "#marge d'erreur ou la prècision\n",
    "eps = 0\n",
    "\n",
    "#pas de depart de la regle d'armijo\n",
    "alpha0 = 0\n",
    "\n",
    "#vecteur de depart de la methode de gradiant conjugée\n",
    "x0 = None\n",
    "\n",
    "#la courbe 3D\n",
    "courbe = None\n",
    "\n",
    "#les axes (valeurs) de la courbe 3D\n",
    "X = None\n",
    "Y = None\n",
    "Z = None\n",
    "\n",
    "#parametre de la regle d'armijo\n",
    "beta = 0.9\n",
    "\n",
    "#Valeurs des xi (iterations de gradiant conjugée) pour visualiser le comparatif entre 3 differents X0\n",
    "Vx = []\n",
    "Vy = []\n",
    "\n",
    "#nombres des figures (courbes)\n",
    "nbrFigures = 0\n",
    "\n",
    "#valeur considerée comme infinie\n",
    "INF = -2000000\n",
    "\n",
    "#nombre des iterations max\n",
    "iterationsMax = 2000"
   ]
  },
  {
   "cell_type": "markdown",
   "metadata": {
    "id": "ay9QdTDGjloe"
   },
   "source": [
    "Calculer gradiant"
   ]
  },
  {
   "cell_type": "code",
   "execution_count": 4,
   "metadata": {
    "id": "NyX_RjC-jlog"
   },
   "outputs": [],
   "source": [
    "def calculer_gradiant(f):\n",
    "    F = Matrix([f])\n",
    "    gradf = simplify(F.jacobian(xn))\n",
    "    gradiant = [None] * n\n",
    "    i = 0\n",
    "    while i < n:\n",
    "        gradiant[i] = gradf[i]\n",
    "        i += 1\n",
    "    return np.array(gradiant)"
   ]
  },
  {
   "cell_type": "markdown",
   "metadata": {
    "id": "eqyDpFJDjloh"
   },
   "source": [
    "Afficher gradiant"
   ]
  },
  {
   "cell_type": "code",
   "execution_count": 5,
   "metadata": {
    "id": "QF2XFm4sjloj"
   },
   "outputs": [],
   "source": [
    "def afficherGrad(gradiant):\n",
    "    i = 0\n",
    "    print(bcolors.BOLD,\"* Gradiant(f) = \",bcolors.ENDC)\n",
    "    while(i < n):\n",
    "        print(\"[(\",i+1,\")\",gradiant[i],\"]\")\n",
    "        i += 1"
   ]
  },
  {
   "cell_type": "markdown",
   "metadata": {
    "id": "3TReFar0jlol"
   },
   "source": [
    "Calculer matrice hessian"
   ]
  },
  {
   "cell_type": "code",
   "execution_count": 6,
   "metadata": {
    "id": "4qZlKUSmjlom"
   },
   "outputs": [],
   "source": [
    "def calculer_hessian(f):\n",
    "    global hessianM\n",
    "    f1 = f.copy()\n",
    "    F = Matrix([f1])\n",
    "    i = 0\n",
    "    hessianf = simplify(hessian(F,xn))\n",
    "    hessianM = np.array(hessianf)\n",
    "    return hessianM"
   ]
  },
  {
   "cell_type": "markdown",
   "metadata": {
    "id": "y31kHYIgjlon"
   },
   "source": [
    "Afficher matrice hessian"
   ]
  },
  {
   "cell_type": "code",
   "execution_count": 7,
   "metadata": {
    "id": "irIYbHnXjlop"
   },
   "outputs": [],
   "source": [
    "def afficherHessian(Mhessian):\n",
    "    i = 0\n",
    "    print(bcolors.BOLD,\"* Hessian(f) = \",bcolors.ENDC)\n",
    "    while(i < n):\n",
    "        j = 0\n",
    "        print(\"[\",end='')\n",
    "        while(j < n):\n",
    "            print(\"(\",i+1,\")(\",j+1,\") \",Mhessian[i][j],end='')\n",
    "            print(\"     \",end='')\n",
    "            j += 1\n",
    "        print(\"]\")\n",
    "        i += 1"
   ]
  },
  {
   "cell_type": "markdown",
   "metadata": {
    "id": "U2eMI0umjloq"
   },
   "source": [
    "1er fonction de la memoire"
   ]
  },
  {
   "cell_type": "code",
   "execution_count": 8,
   "metadata": {
    "id": "4FfFKlWnjloq"
   },
   "outputs": [],
   "source": [
    "def rosenbrock():\n",
    "    global n,grad\n",
    "    n = 2\n",
    "    f = (1-x)**2 + 100*(y - x**2)**2\n",
    "    grad = calculer_gradiant(f)\n",
    "    return f"
   ]
  },
  {
   "cell_type": "markdown",
   "metadata": {
    "id": "TTkLRuy7jlor"
   },
   "source": [
    "2eme fonction de la memoire"
   ]
  },
  {
   "cell_type": "code",
   "execution_count": 9,
   "metadata": {
    "id": "OCRapqPfjlos"
   },
   "outputs": [],
   "source": [
    "def fct2():\n",
    "    global n,grad\n",
    "    n = 2\n",
    "    f = x*exp(-x**2 - y**2)\n",
    "    grad = calculer_gradiant(f)\n",
    "    return f"
   ]
  },
  {
   "cell_type": "markdown",
   "metadata": {
    "id": "6FdWqDLPjlot"
   },
   "source": [
    "3eme fonction de la memoire"
   ]
  },
  {
   "cell_type": "code",
   "execution_count": 10,
   "metadata": {
    "id": "nqruNNoVjlou"
   },
   "outputs": [],
   "source": [
    "def fct3():\n",
    "    global n,grad\n",
    "    n = 5\n",
    "    A = np.array([[3, -1, 0,0,0], [-1, 12, -1,0,0], [0, -1, 24,-1,0] , [0, 0, -1,48,-1] , [0, 0, 0,-1,96]])\n",
    "    b = np.array([1,2,3,4,5])\n",
    "    f = 1/2*np.dot(np.matmul(A,xn),xn) - np.dot(b,xn)\n",
    "    grad = calculer_gradiant(f)\n",
    "    return f"
   ]
  },
  {
   "cell_type": "markdown",
   "metadata": {
    "id": "g8DyT4-6jlou"
   },
   "source": [
    "Remplacer les variables de f par les valeurs dans Vx"
   ]
  },
  {
   "cell_type": "code",
   "execution_count": 11,
   "metadata": {
    "id": "OmVnVCk2jlov"
   },
   "outputs": [],
   "source": [
    "def valeurF(f,V):\n",
    "    i = 0\n",
    "    f1 = f.copy()\n",
    "    while i < n:\n",
    "        f1 = f1.subs({xn[i]:V[i]})\n",
    "        i += 1\n",
    "    return f1"
   ]
  },
  {
   "cell_type": "markdown",
   "metadata": {
    "id": "GWCQwcDZjlov"
   },
   "source": [
    "Remplacer les variables du vecteur grad par les valeurs dans Vx"
   ]
  },
  {
   "cell_type": "code",
   "execution_count": 12,
   "metadata": {
    "id": "LD5AgqT3jlox"
   },
   "outputs": [],
   "source": [
    "def valeurGrad(grad,V):\n",
    "    i = 0\n",
    "    gradValeur = grad.copy()\n",
    "    while i < n:\n",
    "        j = 0\n",
    "        while j < n:\n",
    "            gradValeur[i] = gradValeur[i].subs({xn[j]:V[j]})\n",
    "            j += 1\n",
    "        i += 1\n",
    "    return np.array(gradValeur,dtype=np.float64)"
   ]
  },
  {
   "cell_type": "markdown",
   "metadata": {
    "id": "eSl3CHKTjlox"
   },
   "source": [
    "Calculer le gradiant conjugée "
   ]
  },
  {
   "cell_type": "code",
   "execution_count": 13,
   "metadata": {
    "id": "8SLYLfGDjloy"
   },
   "outputs": [],
   "source": [
    "def GC_armijo(f, grad,alpha_0,x0, eps,beta):\n",
    "    global Vx,Vy\n",
    "    \n",
    "    iteration = 0\n",
    "    xi = x0\n",
    "    f_x = valeurF(f,xi)\n",
    "    grad_x0 = valeurGrad(grad,xi)\n",
    "    grad_x = valeurGrad(grad,xi)\n",
    "    d_x = - grad_x\n",
    "    normGrad = np.linalg.norm(grad_x)\n",
    "    \n",
    "    while normGrad > eps :\n",
    "        iteration = iteration + 1    \n",
    "        alpha = alpha_0\n",
    "        # Calcul pas d'armijo\n",
    "        alpha = armijo_step(alpha,xi,f,f_x,grad_x0,d_x,beta)\n",
    "        # Calcul point successeur\n",
    "        xi = xi + alpha * d_x\n",
    "        # Calcul gradient point successeur\n",
    "        grad_x = valeurGrad(grad,xi)\n",
    "        f_x = valeurF(f,xi)\n",
    "        # Calcul beta de conjugaison\n",
    "        betaCJ = ((np.linalg.norm(grad_x)**2)/(np.linalg.norm(grad_x0)**2))\n",
    "        # Calcul la nouvelle direction\n",
    "        d_x = betaCJ * d_x - grad_x\n",
    "        grad_x0 = grad_x\n",
    "        normGrad = np.linalg.norm(grad_x)\n",
    "        \n",
    "        if(n == 2):\n",
    "            Vx.append(xi[0])\n",
    "            Vy.append(xi[1])\n",
    "        elif(n == 1):\n",
    "            Vx.append(xi[0])\n",
    "        if(f_x < INF or iteration > iterationsMax):\n",
    "            break\n",
    "        \n",
    "    return xi,f_x,iteration"
   ]
  },
  {
   "cell_type": "markdown",
   "metadata": {
    "id": "ufGEt3kUjloz"
   },
   "source": [
    "Calculer le pas d'armijo"
   ]
  },
  {
   "cell_type": "code",
   "execution_count": 14,
   "metadata": {
    "id": "xKXzRpttjlo0"
   },
   "outputs": [],
   "source": [
    "def armijo_step(alpha_0,xi,f,f_x,grad_x,d_x,beta):\n",
    "    # La methode commence par alpha_0\n",
    "    alpha = alpha_0\n",
    "    f0 = f_x\n",
    "    f1 = valeurF(f,xi+alpha*d_x)\n",
    "    # Calcul la pas alpha avec la condition d'armijo\n",
    "    if (f1<f0+alpha*np.dot(grad_x,d_x)) :\n",
    "        while (f1<f0+alpha*beta*np.dot(grad_x,d_x)): \n",
    "            # Agrandir la pas en le multipliant par 2\n",
    "            alpha = alpha*2.0\n",
    "            f1 = valeurF(f,xi+alpha*d_x)\n",
    "            \n",
    "    else :\n",
    "        while (f1>f0+alpha*beta*np.dot(grad_x,d_x)) :\n",
    "             # Réduire la pas en le divise par 2\n",
    "            alpha=alpha/2.0\n",
    "            f1 = valeurF(f,xi+alpha*d_x) \n",
    "    return alpha"
   ]
  },
  {
   "cell_type": "markdown",
   "metadata": {
    "id": "z8lVEgRPjlo1"
   },
   "source": [
    "Tracer la courbe"
   ]
  },
  {
   "cell_type": "code",
   "execution_count": 15,
   "metadata": {
    "id": "Wq_VDQ-Ijlo1"
   },
   "outputs": [],
   "source": [
    "def tracerCourbe(f):\n",
    "    \n",
    "    print(\"Entrer le debut du domaine : \")\n",
    "    start = lireFloat()\n",
    "    print(\"Entrer la fin du domaine : \")\n",
    "    end = lireFloat()\n",
    "    \n",
    "    global X,Y,Z,nbrFigures,courbe\n",
    "    \n",
    "    f1 = lambdify([x,y],f, 'numpy')\n",
    "    \n",
    "    #definir les domaines de x1 et x2\n",
    "    dx = np.linspace(start,end,50)\n",
    "    dy = np.linspace(start,end,50)\n",
    "    \n",
    "    #Créer un grid qui contient tous les valeurs de x1 et x2\n",
    "    X,Y = np.meshgrid(dx,dy)\n",
    "    \n",
    "    #Creer une variable pour stocker les resultats\n",
    "    Z = f1(X,Y)\n",
    "    \n",
    "    #Pour une visualisattion interactive où on peut faire pivoter la figure en 3 dimensions\n",
    "    %matplotlib notebook\n",
    "    \n",
    "    #Visualisation\n",
    "    nbrFigures += 1\n",
    "    plt.figure(nbrFigures)\n",
    "    courbe = plt.axes(projection = '3d')\n",
    "    courbe.plot_surface(X,Y,Z,rstride = 1,cstride = 1,cmap='cool',edgecolor='none',alpha=0.7)\n",
    "    courbe.set_title(\"Courbe\",fontsize = 13)\n",
    "    courbe.set_xlabel('X', fontsize = 11)\n",
    "    courbe.set_ylabel('Y', fontsize = 11)\n",
    "    courbe.set_zlabel('Z', fontsize = 11)\n",
    "    plt.show()"
   ]
  },
  {
   "cell_type": "markdown",
   "metadata": {
    "id": "rx8jB-K1jlo2"
   },
   "source": [
    "Ajouter les lignes de niveaux au graphe existant"
   ]
  },
  {
   "cell_type": "code",
   "execution_count": 16,
   "metadata": {
    "id": "afyA5GWSjlo3"
   },
   "outputs": [],
   "source": [
    "def lignesNiveaux():\n",
    "    global courbe\n",
    "    if(courbe == None):\n",
    "        tracerCourbe(f)\n",
    "    lignesNiveaux = courbe.contour(X,Y,Z,10,colors='black',linewidths = 1)"
   ]
  },
  {
   "cell_type": "markdown",
   "metadata": {
    "id": "Zy4c0FwVjlo3"
   },
   "source": [
    "Tracer les iterations"
   ]
  },
  {
   "cell_type": "code",
   "execution_count": 17,
   "metadata": {
    "id": "glqU1TXjjlo3"
   },
   "outputs": [],
   "source": [
    "def tracerIterations():\n",
    "    global Vx,Vy,nbrFigures\n",
    "    \n",
    "    #creer une nouvelle figure\n",
    "    nbrFigures += 1\n",
    "    plt.figure(nbrFigures)\n",
    "    #Axe x1\n",
    "    plt.xlabel(\"X\")\n",
    "    #Titre de la figure\n",
    "    plt.title(\"Les iterations de l'algorithme 'Gradient conjugué avec la règle d’Armijo'\")\n",
    "    if(n == 1):\n",
    "        Vx.insert(0,x0[0])\n",
    "        plt.plot(Vx1,'bo',label = \"Iterations\")\n",
    "        plt.plot(Vx1[0],'ro',label = \"Iterations\")\n",
    "        plt.plot(Vx1[len(Vx1) - 1],'yo',label = \"Solution\")\n",
    "    elif(n == 2):\n",
    "        Vx.insert(0, x0[0])\n",
    "        Vy.insert(0, x0[1])\n",
    "        plt.plot(Vx,Vy,'bo',label = \"Iterations\")\n",
    "        plt.plot(Vx[0],Vy[0],'ro',label = f\"X0 {x0}\")\n",
    "        plt.plot(Vx[len(Vx) - 1],Vy[len(Vy) - 1],'yo',label = \"Solution\")\n",
    "        plt.ylabel(\"Y\")\n",
    "    \n",
    "    Vx = []\n",
    "    Vy = []\n",
    "        \n",
    "    plt.legend()\n",
    "    plt.show()\n",
    "        \n",
    "    "
   ]
  },
  {
   "cell_type": "markdown",
   "metadata": {
    "id": "fgfmzOpVjlo4"
   },
   "source": [
    "Visualiser un comparatif avec 3 différents X0 (le vecteur de départ)"
   ]
  },
  {
   "cell_type": "code",
   "execution_count": 18,
   "metadata": {
    "id": "dJj2P0a_jlo5"
   },
   "outputs": [],
   "source": [
    "def tracerComparatif():\n",
    "    global Vx,Vy,nbrFigures\n",
    "    \n",
    "    #lire les x0\n",
    "    xn = []\n",
    "    couleurs = ['ro','go','bo']\n",
    "    i = 0\n",
    "    while(i < 3):\n",
    "        j = 0\n",
    "        X0 = []\n",
    "        print(bcolors.BOLD,\"---> Entrer comparatif X0(\",i+1,\") : \",bcolors.ENDC)\n",
    "        while j < n:\n",
    "            print(\"Entrer X0(\",i+1,\")[\",j+1,\"] : \",end = '')\n",
    "            X0.append(lireFloat())\n",
    "            j += 1\n",
    "        xn.append(X0)\n",
    "        i += 1\n",
    "    \n",
    "    i = 0\n",
    "    \n",
    "    #créer une nouvelle figure\n",
    "    nbrFigures += 1\n",
    "    plt.figure(nbrFigures)\n",
    "    \n",
    "    #executer l'alorithme du gradiant conjugée pour les 3 x0 et tracer chaque fois les xi (les iterations)\n",
    "    while(i < 3):\n",
    "        Vx = []\n",
    "        Vx.append(xn[i][0])\n",
    "        \n",
    "        if(n == 2):\n",
    "            Vy = []\n",
    "            Vy.append(xn[i][1])\n",
    "        print(bcolors.OKBLUE,\"En cours de calculer avec X0(\",i+1,\") ...\",bcolors.ENDC)\n",
    "        GC_armijo(f, grad, alpha0, xn[i], eps, beta)\n",
    "        if(n == 1):\n",
    "            plt.plot(Vx,couleurs[i],label = xn[i])\n",
    "        elif(n == 2):\n",
    "            plt.plot(Vx,Vy,couleurs[i],label = xn[i])\n",
    "        i += 1\n",
    "        \n",
    "    plt.xlabel(\"X\")\n",
    "    if(n == 2):\n",
    "        plt.ylabel(\"Y\")\n",
    "    plt.title(\"Comparaison entre 3 X0\")\n",
    "    plt.legend()\n",
    "    plt.show()\n",
    "    Vx = []\n",
    "    Vy = []"
   ]
  },
  {
   "cell_type": "markdown",
   "metadata": {
    "id": "3fjqd9w4jlo7"
   },
   "source": [
    "Lire entier"
   ]
  },
  {
   "cell_type": "code",
   "execution_count": 19,
   "metadata": {
    "id": "Rly_0oYqjlo7"
   },
   "outputs": [],
   "source": [
    "def lireEntier()-> int:\n",
    "    \n",
    "    test = False\n",
    "    while not test:\n",
    "        nb_var = input()\n",
    "        try:\n",
    "            nb_var = int(nb_var)\n",
    "            return  nb_var\n",
    "        except Exception as e:\n",
    "            print(bcolors.FAIL,\"Veuillez saisir un entier valide \",bcolors.ENDC)"
   ]
  },
  {
   "cell_type": "markdown",
   "metadata": {
    "id": "iP0hKQ_ajlo8"
   },
   "source": [
    "Lire float"
   ]
  },
  {
   "cell_type": "code",
   "execution_count": 20,
   "metadata": {
    "id": "AEdheNrWjlo8"
   },
   "outputs": [],
   "source": [
    "def lireFloat()-> float:\n",
    "    \n",
    "    test = False\n",
    "    while not test:\n",
    "        nb_var = input()\n",
    "        try:\n",
    "            nb_var = float(nb_var)\n",
    "            return  nb_var\n",
    "        except Exception as e:\n",
    "            print(bcolors.FAIL,\"Veuillez saisir un flottant valide \",bcolors.ENDC)"
   ]
  },
  {
   "cell_type": "code",
   "execution_count": 21,
   "metadata": {},
   "outputs": [],
   "source": [
    "#fonction pour récupérer la fonction saisie par l'utilisateur\n",
    "def functionsaisie(ch): \n",
    "    global fctt\n",
    "    fctt=ch"
   ]
  },
  {
   "cell_type": "markdown",
   "metadata": {
    "id": "V7aiNvQFjlo9"
   },
   "source": [
    "Lire fonction"
   ]
  },
  {
   "cell_type": "code",
   "execution_count": 22,
   "metadata": {
    "id": "xVTrD577jlo9"
   },
   "outputs": [],
   "source": [
    "def lireFonction():\n",
    "    global grad\n",
    "    xn1,xn2,xn3,xn4,xn5 = var('x y z t w')\n",
    "    while True:\n",
    "####################cette partie est exécutée dans l'interface####################\n",
    "#         print(bcolors.BOLD,\"---> Veuillez saisir une fonction valide : \",bcolors.ENDC)\n",
    "#         print(bcolors.WARNING,\"!!!Remarque : les variables sont notées x,y,z,t,w et la puissance x^2 est notée x**2\",bcolors.ENDC)\n",
    "#         print(bcolors.OKBLUE,\"Exemple : (x**2 - 5 + y**2 + (x**2 -1)*(y**2 - 4))/(x**2 + y**2 + 1)**2\",bcolors.ENDC)\n",
    "#           f1 = input()  ############### à modifier\n",
    "        f1 = fctt \n",
    "        try:\n",
    "            f1 = sympify(f1)#f1=\n",
    "            f2 = f1.copy()\n",
    "        except Exception as e:\n",
    "            continue\n",
    "        \n",
    "        f2 = f2.subs({xn1:1.0,xn2:1.0,xn3:1.0,xn4:1.0,xn5:1.0})     \n",
    "        if(type(f2) is not sym.core.numbers.Float and type(f2) is not sym.core.numbers.Zero):\n",
    "            continue\n",
    "        else:\n",
    "            break\n",
    "            \n",
    "    grad = calculer_gradiant(f1)\n",
    "    return f1"
   ]
  },
  {
   "cell_type": "markdown",
   "metadata": {
    "id": "uYH9M4z7jlo-"
   },
   "source": [
    "Lire les parametres de la fonction"
   ]
  },
  {
   "cell_type": "code",
   "execution_count": 23,
   "metadata": {
    "id": "xMg-FhHyjlo-"
   },
   "outputs": [],
   "source": [
    "def lireParametres():\n",
    "    n=2\n",
    "    global eps,alpha0,x0\n",
    "    while(eps < 0.0001 or eps > 0.1):\n",
    "        print(bcolors.BOLD,\"---> Entrer la precision (0.0001 <= eps <= 0.1): \",bcolors.ENDC,end = '')\n",
    "        eps = lireFloat()\n",
    "    while(alpha0 <= 0):\n",
    "        print(bcolors.BOLD,\"---> Entrer le pas de départ de la règle d’Armijo (alpha0 > 0): \",bcolors.ENDC,end = '')\n",
    "        alpha0 = lireFloat()\n",
    "    print(bcolors.BOLD,\"---> Entrer le vecteur de depart (X0): \",bcolors.ENDC)\n",
    "    i = 0\n",
    "    x0 = [None] * n\n",
    "    while i < n:\n",
    "        print(\"X0[\",i+1,\"] : \",end = '')\n",
    "        x0[i] = lireFloat()\n",
    "        i += 1"
   ]
  },
  {
   "cell_type": "markdown",
   "metadata": {
    "id": "JreLjKUdjlo_"
   },
   "source": [
    "Reinitialiser les variables globales"
   ]
  },
  {
   "cell_type": "code",
   "execution_count": 24,
   "metadata": {
    "id": "f9EQ2FqEjlo_"
   },
   "outputs": [],
   "source": [
    "def reinitialiser():\n",
    "    global n,f,grad,hessianM,eps,alpha0,x0,courbe,X,Y,Z,Vx,Vy\n",
    "    \n",
    "    #nombre des variables (max 5)\n",
    "    n = 2\n",
    "    \n",
    "    #la fonction\n",
    "    f = None\n",
    "    \n",
    "    #gradiant de la fonction\n",
    "    grad = None\n",
    "    \n",
    "    #matrice hessian de la fonction\n",
    "    hessianM = None\n",
    "    \n",
    "    #marge d'erreur ou la prècision\n",
    "    eps = 0\n",
    "    \n",
    "    #pas de depart de la regle d'armijo\n",
    "    alpha0 = 0\n",
    "    \n",
    "    #vecteur de depart de la methode de gradiant conjugée\n",
    "    x0 = None\n",
    "    \n",
    "    #la courbe 3D\n",
    "    courbe = None\n",
    "    \n",
    "    #les axes (valeurs) de la courbe 3D\n",
    "    X = None\n",
    "    Y = None\n",
    "    Z = None\n",
    "    \n",
    "    #Valeurs des xi (iterations de gradiant conjugée) pour visualiser le comparatif entre 3 differents X0\n",
    "    Vx = []\n",
    "    VY = []\n",
    "    "
   ]
  },
  {
   "cell_type": "markdown",
   "metadata": {
    "id": "bk9QSEtBjlpA"
   },
   "source": [
    "Enregistrer la resultat dans un fichier texte 'Resultats.txt' qui est dans le meme emplacement que le programme"
   ]
  },
  {
   "cell_type": "code",
   "execution_count": 25,
   "metadata": {
    "id": "MIoPJIVdjlpB"
   },
   "outputs": [],
   "source": [
    "def enregistrer(res):\n",
    "    try:\n",
    "        file = open('Resultats.txt', 'a')\n",
    "        file.write(f\"* La fonction est : {f}\\n\")\n",
    "        file.write(f\"* La solution (xmin) = {res[0]}\\n\")\n",
    "        file.write(f\"* Valeur minimal de f (fmin) = {res[1]}\\n\")\n",
    "        file.write(f\"* Nombre des iterations effectués = {res[2]}\\n\")\n",
    "        file.write(f\"* Vecteur de depart (x0) = {x0}\\n\")\n",
    "        file.write(f\"* Pas de depart (alpha0) = {alpha0}\\n\")\n",
    "        file.write(f\"---------------------------------------------------\\n\")\n",
    "        file.close()\n",
    "        print(bcolors.OKBLUE,\"Le résultat est enregistré avec succès dans 'Resultats.txt'\",bcolors.ENDC)\n",
    "    except Exception as e:\n",
    "        print(bcolors.FAIL,\"Le résultat n'a pas été enregistré\",bcolors.ENDC)"
   ]
  },
  {
   "cell_type": "code",
   "execution_count": 26,
   "metadata": {},
   "outputs": [],
   "source": [
    "#menu1(projets1,2&4)\n",
    "def myfunction(ch):\n",
    "    global choix\n",
    "    if(ch=='choisir'):\n",
    "        choix=1\n",
    "    elif (ch=='saisir'):\n",
    "        choix=2\n",
    "    else: \n",
    "        choix=3"
   ]
  },
  {
   "cell_type": "markdown",
   "metadata": {
    "id": "q-qMD21YjlpC"
   },
   "source": [
    "Menu 1"
   ]
  },
  {
   "cell_type": "code",
   "execution_count": 27,
   "metadata": {
    "id": "DcM4Wc4ojlpC"
   },
   "outputs": [],
   "source": [
    "def menu1():\n",
    "    #reinitialiser les variables globales\n",
    "    reinitialiser()\n",
    "    \n",
    "    global n,f\n",
    "####################cette partie est exécutée dans l'interface####################\n",
    "#     #liste des options\n",
    "#     a_list=[\"Choisir une fonction de la memoire\", \"Saisir votre propre fonction\"];\n",
    "#     menu = SelectionMenu(a_list,)\n",
    "    \n",
    "#     #exit\n",
    "#     menu.exit_item.text=\"Quitter\";\n",
    "    \n",
    "#     #border\n",
    "#     menu.formatter.set_border_style(format.HeavyOuterLightInnerBorderStyle())\n",
    "    \n",
    "#     #titre\n",
    "#     menu.title = \"Bienvenue au projet 2\"\n",
    "    \n",
    "#     #indication\n",
    "#     menu.subtitle = \"Veuillez nous donner l'option que vous recherchez:\"\n",
    "    \n",
    "#     #executer le menu1\n",
    "#     menu.show()\n",
    "#     menu.join()\n",
    "    \n",
    "#     #option selectionnée\n",
    "#     choix = menu.selected_option\n",
    "    \n",
    "    if choix == 1:\n",
    "        menuFonctionMemoire()\n",
    "        menu2()\n",
    "    elif choix == 2:\n",
    "        \n",
    "####################cette partie est exécutée dans l'interface####################\n",
    "        #print(bcolors.BOLD,\"---> Entrer le nombres de variables : \",bcolors.ENDC,end = '')\n",
    "        n = 2\n",
    "#         while(n < 2 or n > 2):\n",
    "#             n = lireEntier()\n",
    "        f = lireFonction()\n",
    "        #lireParametres()\n",
    "        menu2()\n",
    "    elif choix == 3:\n",
    "        print(\"Fin du programme\")\n",
    "        sys.exit(\"Fin du programme\") #pour migrer du console vers l'interface"
   ]
  },
  {
   "cell_type": "code",
   "execution_count": 28,
   "metadata": {},
   "outputs": [],
   "source": [
    "#fonction pour récupérer la fonction choisie par l'utilisateur de la mémoire\n",
    "def myfunction2(ch): \n",
    "    global choix2\n",
    "    if(ch=='(1 − 𝑥)² + 100(𝑦 − 𝑥²)²'):\n",
    "        choix2=1\n",
    "    elif (ch=='xexp(-x²-y²)'):\n",
    "        choix2 =2\n",
    "    else: \n",
    "        choix2=3"
   ]
  },
  {
   "cell_type": "markdown",
   "metadata": {
    "id": "PpPdODTejlpD"
   },
   "source": [
    "Menu de choisir une fonction de la memoire"
   ]
  },
  {
   "cell_type": "code",
   "execution_count": 29,
   "metadata": {
    "id": "KcgNmXDTjlpD"
   },
   "outputs": [],
   "source": [
    "def menuFonctionMemoire():\n",
    "####################cette partie est exécutée dans l'interface####################\n",
    "#     #liste des options\n",
    "#     a_list=[\"f(x,y) = (1 − x)^2 + 100(y − x^2)^2\",\n",
    "#             \"f(x,y) = x*exp(-x^2 - y^2)\",\n",
    "#             \"f(x) = 0.5 <Ax,x> − <b,x> \\n A = [3,-1,0,0,0]\\n\\t[-1,-12,-1,0,0]\\n\\t[0,-1,-24,-1,0]\\n\\t[0,0,-1,-48,-1]\\n\\t[0,0,0,-1,96]]\\n b =[1,2,3,4,5] \\n x = [x,y,z,t,w]\"];\n",
    "    \n",
    "#     menu = SelectionMenu(a_list,\"Saisir l'une des 2 fonction:\")\n",
    "    \n",
    "#     #exit\n",
    "#     menu.exit_item.text=\"Revenir au Menu principal\";\n",
    "    \n",
    "#     #border\n",
    "#     menu.formatter.set_border_style(format.HeavyOuterLightInnerBorderStyle())\n",
    "    \n",
    "#     #titre\n",
    "#     menu.title=\"Bienvenue au projet 2\"\n",
    "    \n",
    "#     #indication\n",
    "#     menu.subtitle=\"Veuillez nous donner l'option que vous recherchez :\"\n",
    "    \n",
    "#     #executer menu des fonctions memoire\n",
    "#     menu.show()\n",
    "#     menu.join()\n",
    "    \n",
    "#     selection = menu.selected_option\n",
    "    global f\n",
    "    if choix2 == 1:\n",
    "        f = rosenbrock()\n",
    "        lireParametres()\n",
    "        menu2()\n",
    "    elif choix2 == 2:\n",
    "        f = fct2()\n",
    "        lireParametres()\n",
    "        menu2()\n",
    "    elif choix2 == 3:\n",
    "        f = fct3()\n",
    "        lireParametres()\n",
    "        menu2()\n",
    "    #elif choix2 == 4:\n",
    "     #   menu1()"
   ]
  },
  {
   "cell_type": "markdown",
   "metadata": {
    "id": "IQm6tJRUjlpE"
   },
   "source": [
    "Menu 2"
   ]
  },
  {
   "cell_type": "code",
   "execution_count": 30,
   "metadata": {
    "id": "tS2cR5zWjlpF"
   },
   "outputs": [],
   "source": [
    "def menu2():\n",
    "    \n",
    "    #liste des options\n",
    "    a_list=[\"Tracer la courbe\",\n",
    "            \"Tracer les lignes de niveaux et les ajouter au graphe existant\",\n",
    "            \"Calculer le vecteur gradient\",\n",
    "            \"Calculer la matrice Hessienne\",\n",
    "            \"Appliquer la méthode de gradient conjugué avec la règle d’Armijo\",\n",
    "            \"Visualiser un comparatif avec 3 différents X0\"\n",
    "            ];\n",
    "    menu = SelectionMenu(a_list,\"Donnez votre choix:\")\n",
    "    \n",
    "    #exit menu\n",
    "    menu.exit_item.text = \"Revenir à linterface\";\n",
    "    \n",
    "    #border\n",
    "    menu.formatter.set_border_style(format.HeavyOuterLightInnerBorderStyle())\n",
    "    \n",
    "    #executer menu2\n",
    "    menu.show()\n",
    "    menu.join()\n",
    "    \n",
    "    #option selectionnée\n",
    "    selection = menu.selected_option\n",
    "    \n",
    "    if selection == 0:\n",
    "        #tracer la courbe\n",
    "        if(n <= 2):\n",
    "            tracerCourbe(f)\n",
    "            print(bcolors.WARNING,\"!!! La courbe s'affiche après la fin du programme\",bcolors.ENDC)\n",
    "        else:\n",
    "            print(bcolors.FAIL,\"Ne peut pas représenter graphiquement lorsque le nombre de variables est supérieur à 2\",bcolors.ENDC)\n",
    "        menu2()\n",
    "        \n",
    "    elif selection == 1:\n",
    "        #tracer les lignes de niveaux et les ajouter au graphe existant\n",
    "        if(n <= 2):\n",
    "            lignesNiveaux()\n",
    "            print(bcolors.WARNING,\"!!! La courbe s'affiche après la fin du programme\",bcolors.ENDC)\n",
    "        else:\n",
    "            print(bcolors.FAIL,\"Ne peut pas représenter graphiquement lorsque le nombre de variables est supérieur à 2\",bcolors.ENDC)\n",
    "        menu2()\n",
    "            \n",
    "    elif selection == 2:\n",
    "        #calculer le vecteur gradient\n",
    "        afficherGrad(grad)\n",
    "        menu2()\n",
    "    elif selection == 3:\n",
    "        #calculer la matrice Hessienne\n",
    "        afficherHessian(calculer_hessian(f))\n",
    "        menu2()\n",
    "    elif selection == 4:\n",
    "        #appliquer la méthode de gradient conjugué avec la règle d’Armijo\n",
    "        lireParametres()\n",
    "        print(bcolors.OKBLUE,\"En cours de calculer ...\",bcolors.ENDC)\n",
    "        res = GC_armijo(f, grad, alpha0, x0, eps, beta)\n",
    "        if(res[1]<INF):\n",
    "            print(bcolors.FAIL,\"Cette fonction tend vers l'infinie (-∞)\",bcolors.ENDC)\n",
    "        elif(res[2] > iterationsMax):\n",
    "            print(bcolors.FAIL,\":( l'algorithme n'a pas pu trouver le minimun, essayer avec une autre alpha0\",bcolors.ENDC)\n",
    "        else:\n",
    "            print(bcolors.BOLD,\"* La solution (xmin) = \",bcolors.ENDC,bcolors.OKCYAN,res[0],bcolors.ENDC)\n",
    "            print(bcolors.BOLD,\"* Valeur minimal de f (fmin) = \",bcolors.ENDC,bcolors.OKCYAN,res[1],bcolors.ENDC)\n",
    "            print(bcolors.BOLD,\"* Nombre des iterations effectués = \",bcolors.ENDC,bcolors.OKCYAN,res[2],bcolors.ENDC)\n",
    "            print(bcolors.BOLD,\"* Vecteur de depart (x0) = \",bcolors.ENDC,bcolors.OKCYAN,x0,bcolors.ENDC)\n",
    "            print(bcolors.BOLD,\"* Pas de depart (alpha0) = \",bcolors.ENDC,bcolors.OKCYAN,alpha0,bcolors.ENDC)\n",
    "            enregistrer(res)\n",
    "            if(n <= 2):\n",
    "                tracerIterations()\n",
    "                print(bcolors.WARNING,\"!!! La courbe s'affiche après la fin du programme\",bcolors.ENDC)\n",
    "        menu2()\n",
    "    elif selection == 5:\n",
    "        #Visualiser un comparatif avec 3 différents X0\n",
    "        if(n <= 2):\n",
    "            tracerComparatif()\n",
    "            print(bcolors.WARNING,\"!!! La courbe s'affiche après la fin du programme\",bcolors.ENDC)\n",
    "        else:\n",
    "            print(bcolors.FAIL,\"Ne peut pas représenter graphiquement lorsque le nombre de variables est supérieur à 2\",bcolors.ENDC)\n",
    "        menu2()\n",
    "            \n",
    "    elif selection == 6:\n",
    "        #menu1()\n",
    "        menu1.exit_item.text=\"Revenir à linterface\";\n",
    "        #sys.exit('byee') #pour migrer du console vers l'interface"
   ]
  },
  {
   "cell_type": "markdown",
   "metadata": {
    "id": "LK63JuQajlpG"
   },
   "source": [
    "Les styles de text de la fonction print"
   ]
  },
  {
   "cell_type": "code",
   "execution_count": 31,
   "metadata": {
    "id": "JGH1VA52jlpG"
   },
   "outputs": [],
   "source": [
    "class bcolors:\n",
    "    HEADER = '\\033[95m'\n",
    "    OKBLUE = '\\033[94m'\n",
    "    OKCYAN = '\\033[96m'\n",
    "    OKGREEN = '\\033[92m'\n",
    "    WARNING = '\\033[93m'\n",
    "    FAIL = '\\033[91m'\n",
    "    ENDC = '\\033[0m'\n",
    "    BOLD = '\\033[1m'\n",
    "    UNDERLINE = '\\033[4m'"
   ]
  },
  {
   "cell_type": "markdown",
   "metadata": {
    "id": "YhX3A8k_jlpH"
   },
   "source": [
    "Main"
   ]
  },
  {
   "cell_type": "code",
   "execution_count": 32,
   "metadata": {
    "colab": {
     "base_uri": "https://localhost:8080/",
     "height": 1000
    },
    "id": "qWYJlZ5wjlpH",
    "outputId": "57285402-550f-41f8-c4fb-ff354b127fb6",
    "scrolled": false
   },
   "outputs": [],
   "source": [
    "#menu1()"
   ]
  }
 ],
 "metadata": {
  "colab": {
   "provenance": []
  },
  "kernelspec": {
   "display_name": "Python 3 (ipykernel)",
   "language": "python",
   "name": "python3"
  },
  "language_info": {
   "codemirror_mode": {
    "name": "ipython",
    "version": 3
   },
   "file_extension": ".py",
   "mimetype": "text/x-python",
   "name": "python",
   "nbconvert_exporter": "python",
   "pygments_lexer": "ipython3",
   "version": "3.11.1"
  },
  "vscode": {
   "interpreter": {
    "hash": "a665b5d41d17b532ea9890333293a1b812fa0b73c9c25c950b3cedf1bebd0438"
   }
  }
 },
 "nbformat": 4,
 "nbformat_minor": 1
}
